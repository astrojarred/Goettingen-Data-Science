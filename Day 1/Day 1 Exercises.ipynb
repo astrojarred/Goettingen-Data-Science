{
 "cells": [
  {
   "cell_type": "markdown",
   "metadata": {},
   "source": [
    "# Jarred's Jupyter Exercise"
   ]
  },
  {
   "cell_type": "markdown",
   "metadata": {},
   "source": [
    "0. **Git**\n",
    "  1. Create a new branch for the current day and switch to it. A good idea is to create a new branch every day for the day-to-day work and merge it back to master at the end of the day if everything works. Alternatively you can create a separate branch for every exercise but that is probably a bit tedious.\n",
    "1. **The Dashboard**\n",
    "  1. Create a new notebook.\n",
    "  2. Give the notebook a meaningful name.\n",
    "  3. Add the notebook to your working branch's index.\n",
    "  4. Give the notebook a structure for the exercises using new cells and headings.\n",
    "2. **Keyboard shortcuts** \n",
    "  1. Learn 3-4 useful keyboard shortcuts and use them whenever possible.\n",
    "  2. Make a table with your favourite keyboard shortcuts.\n",
    "  3. Find three more useful shortcuts for jupyter notebook in the help menu/documentation.\n",
    "3. **Markdown & Code**\n",
    "  1. Practice text formatting using\n",
    "  2. lists and\n",
    "  3. LaTeX. \n",
    "  4. Make a code cell, and type in some basic calculations.\n",
    "  5. Execute the code cell (```shift-enter```) to see the results of the calculations.\n",
    "4. **(Optional) Command line**\n",
    "  1. Experiment with command line input.\n",
    "  2. Find out how to display an image in jupyter notebook using the command line.\n",
    "5. **Git**\n",
    "  1. Commit the notebook to the working branch (commit message!).\n",
    "  2. (Optional) Make a change in the notebook (for example 'accidentally' deleting it) and undo the change using git."
   ]
  },
  {
   "cell_type": "markdown",
   "metadata": {},
   "source": []
  },
  {
   "cell_type": "markdown",
   "metadata": {},
   "source": [
    "### Exercice 1 : Linear algebra - short\n",
    "\n",
    "Step 1 - Read a file call data.txt containing three matrices A, B and C 3x3. C = AxB.<br/>\n",
    "Step 2 - Create a vector u = (1, 2, 3).<br/>\n",
    "Step 3 - Compute the product of the two matrices A.B and compare it to the results got in the file.<br/>\n",
    "Step 4 - Multiply the resulting matrix by the vector that you created.<br/>"
   ]
  },
  {
   "cell_type": "markdown",
   "metadata": {},
   "source": [
    "### Exercice 2 : Data manipulation and linear algebra - long\n",
    "\n",
    "This exercice show the computation of the distance between two consecutives cardons alpha in the barstar. \n",
    "\n",
    "From the file 1bta.pdb, extract the atomic coordinates by using the Unix command and put them in 1BTA_CA.txt: \n",
    "\n",
    "awk '$1==\"ATOM\" && $3==\"CA\" {printf \"%.3f %.3f \"%.3f\", $7, $8, $9}' 1bta.pdb > 1BTA_CA.txt\n",
    "\n",
    "[if doesn't work then use\n",
    "\n",
    "export LC_NUMERIC=C\n",
    "\n",
    "and redo.]\n",
    "\n",
    "The cordinates are all save in one line in 1BTA_CA.txt.\n",
    "\n",
    "- Open the file 1BTA_CA.txt with Python and creat a list with all the coordinates in real form.\n",
    "\n",
    "- With the function asarray() of numpy, change this list into matrix.\n",
    "- With the function reshape() of numpy, and knowing the number of amino acids in the barstar, built a matrix at two dimensions with the carbones alpha coordinates.\n",
    "- Create a matrix which contain the coordinates of the first n-1 carbones alpha and an other one which contain the coordinates of the last n-1 carbones alpha.\n",
    "- By using the mathematical operators (-, **2, +) and the functions sqrt() and sum() of numpy, compute the distance between the atomes n and n+1.\n",
    "- Finally, print these distances between the consecutive carbones alpha and find the surprising value."
   ]
  },
  {
   "cell_type": "code",
   "execution_count": 66,
   "metadata": {},
   "outputs": [],
   "source": [
    "import numpy as np\n",
    "\n",
    "data = np.genfromtxt(\"1BTA_CA.txt\")\n",
    "data = np.asarray(data)\n",
    "data = np.reshape(data, (-1,3))\n",
    "datafront = np.delete(data,len(data)-1,0)\n",
    "databack = np.delete(data,0,0)"
   ]
  },
  {
   "cell_type": "markdown",
   "metadata": {},
   "source": [
    "### Exercice : Data statistics\n",
    "\n",
    "The data in populations.txt describes the populations of hares and lynxes (and carrots) in northern Canada during 20 years :\n",
    "\n",
    "-- First : \n",
    "- Load the file populations.txt as data\n",
    "- Define 4 arrays called : year, hares, lynxes, carrots. In order to have the columns as variables, take the transpose of data. Then, load (contain in data) the associated values in the 4 corresponding arrays.\n",
    "- Plot the corresponding number of hares, lynxes and carrots as a function of the year\n",
    "- Precise the axes (0.2,0.1,0.5,0.8)\n",
    "- Plot a legend at the location (1.05,0.5)\n",
    "\n",
    "-- Second :\n",
    "\n",
    "- The mean and std of the populations of each species for the years in the period.\n",
    "- Which year each species had the largest population.\n",
    "- Which species has the largest population for each year. (Hint : argsort & fancy indexing of np.array(['H', 'L', 'C']))\n",
    "- Which years any of the populations is above 50000. (Hint: comparisons and np.any)\n",
    "- The top 2 years for each species when they had the lowest populations. (Hint : argsort, fancy indexing)\n",
    "- Compare (plot) the change in hare population (see help(np.gradient)) and the number of lynxes. Check correlation (see help(np.corrcoef)).\n",
    "\n",
    "… all without for-loops."
   ]
  },
  {
   "cell_type": "code",
   "execution_count": null,
   "metadata": {},
   "outputs": [],
   "source": [
    "import numpy as np\n",
    "import matplotlib.pyplot as plt\n",
    "import seaborn as sns\n",
    "\n",
    "year, hares, lynxes, carrots = np.transpose(np.genfromtxt(\"populations.txt\"))\n",
    "plt.plot(year, hares, label='hares')\n",
    "plt.plot(year, lynxes, label='lynxes')\n",
    "plt.plot(year, carrots, label='carrots')\n",
    "plt.legend(loc=(1.05, 0.5))\n",
    "plt.show()\n",
    "\n",
    "\n"
   ]
  },
  {
   "cell_type": "markdown",
   "metadata": {},
   "source": [
    "### Random Walk Exercise \n",
    "\n",
    "+ Generate N independent trajectories of 1000 steps each, for a walker in 2D.\n",
    "        --> Create two lists x,y for the coordinates\n",
    "    -- By using the random generator of your choice (random.random() or random.uniform(a,b)), simulate the N independant trajectories of 1000 steps each.\n",
    "    -- Plot these trajectories by using matplotlib.\n",
    "    -- Plot the last point of eache trajectories.\n",
    "    -- Plot the histogran corresponding of this random walk\n",
    "        --> What do you remark ?\n",
    "\n",
    "\n",
    "+ Now, redo the same but change your random generator\n",
    "\n",
    "    -- How look like the histogram ?\n",
    "\n",
    "    -- Are there a difference between the histograms got from these two radom generators ?"
   ]
  },
  {
   "cell_type": "code",
   "execution_count": null,
   "metadata": {},
   "outputs": [],
   "source": [
    "import random\n",
    "\n",
    "N = 0\n",
    "r = 0.\n",
    "jmax = 2000\n",
    "jmax2 = 2000\n",
    "x = np.zeros((jmax,1))\n",
    "y = np.zeros((jmax,1))\n",
    "RR = np.zeros((jmax2,1))\n",
    "NN = np.zeros((jmax2,1))\n",
    "#plt.subplot(211)\n",
    "while N < jmax2:\n",
    "    #random.seed(None)\n",
    "    xx = 0.\n",
    "    yy = 0.\n",
    "    xxx = 0.\n",
    "    yyy = 0.\n",
    "    for i in range (0 , jmax):\n",
    "        xx = (random.random() - 0.5)*2.\n",
    "        yy = (random.random() - 0.5)*2.\n",
    "        xxx += xx/(np.sqrt(xx**2+yy**2))\n",
    "        yyy += yy/(np.sqrt(xx**2+yy**2))\n",
    "        x[i] = xxx\n",
    "        y[i] = yyy\n",
    "    r += 1./jmax2*(x[-1]**2+y[-1]**2)\n",
    "    RR[N] = r\n",
    "    NN[N] = np.sqrt(N)\n",
    "    plt.plot(x,y,'.')\n",
    "    N += 1\n",
    "#print(NN)\n",
    "plt.show()\n",
    "#plt.subplot(212)\n",
    "\n",
    "plt.plot(NN,np.sqrt(RR))\n",
    "#print(R,np.sqrt(np.mean(r*r)))\n",
    "plt.show()"
   ]
  },
  {
   "cell_type": "code",
   "execution_count": null,
   "metadata": {},
   "outputs": [],
   "source": []
  }
 ],
 "metadata": {
  "kernelspec": {
   "display_name": "Python 3",
   "language": "python",
   "name": "python3"
  },
  "language_info": {
   "codemirror_mode": {
    "name": "ipython",
    "version": 3
   },
   "file_extension": ".py",
   "mimetype": "text/x-python",
   "name": "python",
   "nbconvert_exporter": "python",
   "pygments_lexer": "ipython3",
   "version": "3.6.4"
  }
 },
 "nbformat": 4,
 "nbformat_minor": 2
}
